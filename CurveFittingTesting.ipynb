{
  "nbformat": 4,
  "nbformat_minor": 0,
  "metadata": {
    "colab": {
      "provenance": [],
      "include_colab_link": true
    },
    "kernelspec": {
      "name": "python3",
      "display_name": "Python 3"
    },
    "language_info": {
      "name": "python"
    },
    "accelerator": "GPU",
    "gpuClass": "standard"
  },
  "cells": [
    {
      "cell_type": "markdown",
      "metadata": {
        "id": "view-in-github",
        "colab_type": "text"
      },
      "source": [
        "<a href=\"https://colab.research.google.com/github/Brandon9627/Deep_Learning/blob/main/CurveFittingTesting.ipynb\" target=\"_parent\"><img src=\"https://colab.research.google.com/assets/colab-badge.svg\" alt=\"Open In Colab\"/></a>"
      ]
    },
    {
      "cell_type": "code",
      "source": [
        "#imports\n",
        "import numpy as np\n",
        "import matplotlib.pyplot as plt\n",
        "from google.colab import files\n",
        "import tensorflow as tf\n",
        "# from tensorflow import keras\n",
        "# from keras import backend as k\n",
        "# from keras.models import Sequential\n",
        "# from keras.layers import Activation\n",
        "# from keras.layers.core import Dense\n",
        "# from keras.optimizers import Adam\n",
        "# from keras.metrics import categorical_crossentropy\n",
        "import math\n",
        "import csv\n",
        "import glob\n",
        "from PIL import Image\n",
        "from scipy.interpolate import make_interp_spline\n",
        "import re\n",
        "\n",
        "print ('TensorFlow version: ' + tf.__version__)"
      ],
      "metadata": {
        "colab": {
          "base_uri": "https://localhost:8080/"
        },
        "id": "nVFLwxykStdn",
        "outputId": "336b5a88-50e0-44e2-db0b-ea2c1a563963"
      },
      "execution_count": 1,
      "outputs": [
        {
          "output_type": "stream",
          "name": "stdout",
          "text": [
            "TensorFlow version: 2.9.2\n"
          ]
        }
      ]
    },
    {
      "cell_type": "code",
      "source": [
        "#loading data\n",
        "norm_list = []\n",
        "prob_list = []\n",
        "\n",
        "with open('NORM.csv', 'r') as file: \n",
        "        csvreader = csv.reader(file)\n",
        "        header = next(csvreader)\n",
        "        for row in csvreader:\n",
        "            norm_list.append(row[0])\n",
        "\n",
        "with open('PROB.csv', 'r') as file: \n",
        "        csvreader = csv.reader(file)\n",
        "        header = next(csvreader)\n",
        "        for row in csvreader:\n",
        "            prob_list.append(row[0])\n",
        "\n",
        "norm_list, prob_list = (list(t) for t in zip(*sorted(zip(norm_list, prob_list))))\n",
        "\n",
        "x_data = np.array(norm_list)\n",
        "y_data = np.array(prob_list)\n",
        "x_data = x_data.astype(float)\n",
        "y_data = y_data.astype(float)"
      ],
      "metadata": {
        "id": "WIKd_a-DSdIm"
      },
      "execution_count": 2,
      "outputs": []
    },
    {
      "cell_type": "code",
      "source": [
        "# Display the dataset\n",
        "plt.xlim(0, 1)\n",
        "plt.ylim(0, 1)\n",
        "plt.scatter(x_data[::1], y_data[::1], s=1)\n",
        "plt.grid()\n",
        "plt.xlabel('Normalized symtopm score')\n",
        "plt.ylabel('Lyme probability')\n",
        "plt.title(\"Probability from KDE\")\n",
        "plt.show()\n",
        "# plt.savefig('orgdata.png',dpi=300)\n",
        "# files.download('orgdata.png') "
      ],
      "metadata": {
        "colab": {
          "base_uri": "https://localhost:8080/",
          "height": 295
        },
        "id": "Y4CO1w20TGo7",
        "outputId": "f7002af4-4717-4e52-bc9a-4522313cf771"
      },
      "execution_count": 3,
      "outputs": [
        {
          "output_type": "display_data",
          "data": {
            "text/plain": [
              "<Figure size 432x288 with 1 Axes>"
            ],
            "image/png": "[encoded data removed]"
          },
          "metadata": {
            "needs_background": "light"
          }
        }
      ]
    },
    {
      "cell_type": "code",
      "source": [
        "#Model Creation\n",
        "model = tf.keras.Sequential()\n",
        "#model.add(tf.keras.layers.Dense(units = 1, activation = 'linear', input_shape=[1]))\n",
        "model.add(tf.keras.layers.Dense(units = 64, input_shape=[1], activation = 'relu'))\n",
        "model.add(tf.keras.layers.Dense(units = 64, activation = 'relu'))\n",
        "model.add(tf.keras.layers.Dense(units = 1, activation = 'sigmoid'))\n",
        "model.compile(optimizer='adam', loss='mse') # , metrics = ['accuracy']\n",
        "\n",
        "# Display model summary\n",
        "model.summary()"
      ],
      "metadata": {
        "colab": {
          "base_uri": "https://localhost:8080/"
        },
        "id": "HZ-w7_NtTZ_b",
        "outputId": "0d4a44a0-e32d-492a-9968-afe6b6248be7"
      },
      "execution_count": 4,
      "outputs": [
        {
          "output_type": "stream",
          "name": "stdout",
          "text": [
            "Model: \"sequential\"\n",
            "_________________________________________________________________\n",
            " Layer (type)                Output Shape              Param #   \n",
            "=================================================================\n",
            " dense (Dense)               (None, 64)                128       \n",
            "                                                                 \n",
            " dense_1 (Dense)             (None, 64)                4160      \n",
            "                                                                 \n",
            " dense_2 (Dense)             (None, 1)                 65        \n",
            "                                                                 \n",
            "=================================================================\n",
            "Total params: 4,353\n",
            "Trainable params: 4,353\n",
            "Non-trainable params: 0\n",
            "_________________________________________________________________\n"
          ]
        }
      ]
    },
    {
      "cell_type": "code",
      "source": [
        "\n",
        "!pwd"
      ],
      "metadata": {
        "colab": {
          "base_uri": "https://localhost:8080/"
        },
        "id": "ujnUCHjckY4U",
        "outputId": "69eb8312-338d-429f-b6d1-73303879a430"
      },
      "execution_count": 5,
      "outputs": [
        {
          "output_type": "stream",
          "name": "stdout",
          "text": [
            "/content\n"
          ]
        }
      ]
    },
    {
      "cell_type": "code",
      "source": [],
      "metadata": {
        "id": "wATY_dZP1iNq"
      },
      "execution_count": 5,
      "outputs": []
    },
    {
      "cell_type": "code",
      "source": [
        "# Training\n",
        "model.fit( x_data, y_data, epochs=100, verbose=1, validation_split=0.2, shuffle=True)\n",
        "model.save('Qmodel.h5') #Save model for later\n",
        "\n",
        "#Callbacks\n",
        "# METRICS = [keras.metrics.BinaryAccuracy(name='accuracy')]\n",
        "# base_learning_rate = 0.0001\n",
        "# model.compile(optimizer=tf.keras.optimizers.Adam(lr=base_learning_rate),\n",
        "#           loss=tf.keras.losses.BinaryCrossentropy(),\n",
        "#           metrics=METRICS)\n",
        "# early_stopping = EarlyStopping(monitor='val_accuracy', patience=10, verbose=1, restore_best_weights=True)\n",
        "# reduce_lr = ReduceLROnPlateau(monitor='val_accuracy', patience=5, verbose=1)\n",
        "# csv_logger = CSVLogger(os.path.join(MODEL_SAVE_DIRECTORY,\"model_history_log_fold\"+str(i)+\".csv\"), append=True)\n",
        "# history_bef_finetune = model.fit(train_dataset, epochs=MAX_EPOCH, validation_data=validation_dataset, callbacks=[early_stopping, reduce_lr, csv_logger])"
      ],
      "metadata": {
        "colab": {
          "base_uri": "https://localhost:8080/"
        },
        "id": "zI7Y1tRbTqOA",
        "outputId": "a71da23b-195e-4208-af54-ec98edd3a8a8"
      },
      "execution_count": 6,
      "outputs": [
        {
          "output_type": "stream",
          "name": "stdout",
          "text": [
            "Epoch 1/100\n",
            "308/308 [==============================] - 4s 3ms/step - loss: 0.0192 - val_loss: 4.2531e-04\n",
            "Epoch 2/100\n",
            "308/308 [==============================] - 1s 3ms/step - loss: 1.3172e-04 - val_loss: 4.0701e-04\n",
            "Epoch 3/100\n",
            "308/308 [==============================] - 1s 3ms/step - loss: 8.7218e-05 - val_loss: 3.7767e-04\n",
            "Epoch 4/100\n",
            "308/308 [==============================] - 1s 3ms/step - loss: 5.1248e-05 - val_loss: 2.8005e-04\n",
            "Epoch 5/100\n",
            "308/308 [==============================] - 1s 3ms/step - loss: 4.5458e-05 - val_loss: 2.8292e-04\n",
            "Epoch 6/100\n",
            "308/308 [==============================] - 1s 3ms/step - loss: 4.1991e-05 - val_loss: 3.0606e-04\n",
            "Epoch 7/100\n",
            "308/308 [==============================] - 1s 3ms/step - loss: 3.7797e-05 - val_loss: 2.5270e-04\n",
            "Epoch 8/100\n",
            "308/308 [==============================] - 1s 3ms/step - loss: 3.3992e-05 - val_loss: 2.8852e-04\n",
            "Epoch 9/100\n",
            "308/308 [==============================] - 1s 3ms/step - loss: 3.0174e-05 - val_loss: 3.4379e-04\n",
            "Epoch 10/100\n",
            "308/308 [==============================] - 1s 3ms/step - loss: 2.7423e-05 - val_loss: 2.5114e-04\n",
            "Epoch 11/100\n",
            "308/308 [==============================] - 1s 3ms/step - loss: 2.4951e-05 - val_loss: 3.3463e-04\n",
            "Epoch 12/100\n",
            "308/308 [==============================] - 1s 3ms/step - loss: 2.0796e-05 - val_loss: 3.4336e-04\n",
            "Epoch 13/100\n",
            "308/308 [==============================] - 1s 3ms/step - loss: 1.9099e-05 - val_loss: 2.7516e-04\n",
            "Epoch 14/100\n",
            "308/308 [==============================] - 1s 3ms/step - loss: 1.6902e-05 - val_loss: 2.9765e-04\n",
            "Epoch 15/100\n",
            "308/308 [==============================] - 1s 4ms/step - loss: 1.5729e-05 - val_loss: 3.2482e-04\n",
            "Epoch 16/100\n",
            "308/308 [==============================] - 1s 4ms/step - loss: 1.6298e-05 - val_loss: 3.5256e-04\n",
            "Epoch 17/100\n",
            "308/308 [==============================] - 1s 4ms/step - loss: 1.5114e-05 - val_loss: 4.1378e-04\n",
            "Epoch 18/100\n",
            "308/308 [==============================] - 1s 3ms/step - loss: 1.4311e-05 - val_loss: 3.2609e-04\n",
            "Epoch 19/100\n",
            "308/308 [==============================] - 1s 3ms/step - loss: 1.5344e-05 - val_loss: 3.6051e-04\n",
            "Epoch 20/100\n",
            "308/308 [==============================] - 1s 3ms/step - loss: 1.4614e-05 - val_loss: 3.7409e-04\n",
            "Epoch 21/100\n",
            "308/308 [==============================] - 1s 3ms/step - loss: 1.5537e-05 - val_loss: 3.3501e-04\n",
            "Epoch 22/100\n",
            "308/308 [==============================] - 1s 3ms/step - loss: 1.6856e-05 - val_loss: 2.5824e-04\n",
            "Epoch 23/100\n",
            "308/308 [==============================] - 1s 3ms/step - loss: 1.4783e-05 - val_loss: 3.4094e-04\n",
            "Epoch 24/100\n",
            "308/308 [==============================] - 1s 3ms/step - loss: 1.5324e-05 - val_loss: 3.5075e-04\n",
            "Epoch 25/100\n",
            "308/308 [==============================] - 1s 3ms/step - loss: 1.5514e-05 - val_loss: 3.3594e-04\n",
            "Epoch 26/100\n",
            "308/308 [==============================] - 1s 3ms/step - loss: 1.5179e-05 - val_loss: 3.5775e-04\n",
            "Epoch 27/100\n",
            "308/308 [==============================] - 1s 3ms/step - loss: 1.4629e-05 - val_loss: 3.3872e-04\n",
            "Epoch 28/100\n",
            "308/308 [==============================] - 1s 3ms/step - loss: 1.4664e-05 - val_loss: 3.6003e-04\n",
            "Epoch 29/100\n",
            "308/308 [==============================] - 1s 3ms/step - loss: 1.4410e-05 - val_loss: 3.2393e-04\n",
            "Epoch 30/100\n",
            "308/308 [==============================] - 1s 3ms/step - loss: 1.3512e-05 - val_loss: 3.7452e-04\n",
            "Epoch 31/100\n",
            "308/308 [==============================] - 1s 3ms/step - loss: 1.5491e-05 - val_loss: 3.3831e-04\n",
            "Epoch 32/100\n",
            "308/308 [==============================] - 1s 3ms/step - loss: 1.3798e-05 - val_loss: 3.1129e-04\n",
            "Epoch 33/100\n",
            "308/308 [==============================] - 1s 3ms/step - loss: 1.5855e-05 - val_loss: 3.2435e-04\n",
            "Epoch 34/100\n",
            "308/308 [==============================] - 1s 3ms/step - loss: 1.5832e-05 - val_loss: 3.6454e-04\n",
            "Epoch 35/100\n",
            "308/308 [==============================] - 1s 3ms/step - loss: 1.5969e-05 - val_loss: 4.2185e-04\n",
            "Epoch 36/100\n",
            "308/308 [==============================] - 1s 3ms/step - loss: 1.4856e-05 - val_loss: 4.2693e-04\n",
            "Epoch 37/100\n",
            "308/308 [==============================] - 1s 3ms/step - loss: 1.4449e-05 - val_loss: 3.8337e-04\n",
            "Epoch 38/100\n",
            "308/308 [==============================] - 1s 3ms/step - loss: 1.5224e-05 - val_loss: 4.2381e-04\n",
            "Epoch 39/100\n",
            "308/308 [==============================] - 1s 3ms/step - loss: 1.3986e-05 - val_loss: 3.3374e-04\n",
            "Epoch 40/100\n",
            "308/308 [==============================] - 1s 3ms/step - loss: 1.4632e-05 - val_loss: 3.4551e-04\n",
            "Epoch 41/100\n",
            "308/308 [==============================] - 1s 3ms/step - loss: 1.5409e-05 - val_loss: 3.3662e-04\n",
            "Epoch 42/100\n",
            "308/308 [==============================] - 1s 3ms/step - loss: 1.5135e-05 - val_loss: 3.5366e-04\n",
            "Epoch 43/100\n",
            "308/308 [==============================] - 1s 3ms/step - loss: 1.3039e-05 - val_loss: 3.8304e-04\n",
            "Epoch 44/100\n",
            "308/308 [==============================] - 1s 3ms/step - loss: 1.4703e-05 - val_loss: 4.3972e-04\n",
            "Epoch 45/100\n",
            "308/308 [==============================] - 1s 3ms/step - loss: 1.4110e-05 - val_loss: 4.6551e-04\n",
            "Epoch 46/100\n",
            "308/308 [==============================] - 1s 3ms/step - loss: 1.5130e-05 - val_loss: 4.2681e-04\n",
            "Epoch 47/100\n",
            "308/308 [==============================] - 1s 3ms/step - loss: 1.4787e-05 - val_loss: 3.5372e-04\n",
            "Epoch 48/100\n",
            "308/308 [==============================] - 1s 3ms/step - loss: 1.6085e-05 - val_loss: 4.0512e-04\n",
            "Epoch 49/100\n",
            "308/308 [==============================] - 1s 3ms/step - loss: 1.4403e-05 - val_loss: 4.0216e-04\n",
            "Epoch 50/100\n",
            "308/308 [==============================] - 1s 3ms/step - loss: 1.5094e-05 - val_loss: 4.2012e-04\n",
            "Epoch 51/100\n",
            "308/308 [==============================] - 1s 3ms/step - loss: 1.3798e-05 - val_loss: 3.2458e-04\n",
            "Epoch 52/100\n",
            "308/308 [==============================] - 1s 3ms/step - loss: 1.4082e-05 - val_loss: 4.2261e-04\n",
            "Epoch 53/100\n",
            "308/308 [==============================] - 1s 3ms/step - loss: 1.4695e-05 - val_loss: 3.6308e-04\n",
            "Epoch 54/100\n",
            "308/308 [==============================] - 1s 3ms/step - loss: 1.4025e-05 - val_loss: 3.5247e-04\n",
            "Epoch 55/100\n",
            "308/308 [==============================] - 1s 3ms/step - loss: 1.4966e-05 - val_loss: 4.8015e-04\n",
            "Epoch 56/100\n",
            "308/308 [==============================] - 1s 3ms/step - loss: 1.7294e-05 - val_loss: 4.1250e-04\n",
            "Epoch 57/100\n",
            "308/308 [==============================] - 1s 3ms/step - loss: 1.3561e-05 - val_loss: 4.6290e-04\n",
            "Epoch 58/100\n",
            "308/308 [==============================] - 1s 3ms/step - loss: 1.3729e-05 - val_loss: 4.0050e-04\n",
            "Epoch 59/100\n",
            "308/308 [==============================] - 1s 3ms/step - loss: 1.4105e-05 - val_loss: 4.4099e-04\n",
            "Epoch 60/100\n",
            "308/308 [==============================] - 1s 3ms/step - loss: 1.5704e-05 - val_loss: 3.9912e-04\n",
            "Epoch 61/100\n",
            "308/308 [==============================] - 1s 3ms/step - loss: 1.7681e-05 - val_loss: 3.9946e-04\n",
            "Epoch 62/100\n",
            "308/308 [==============================] - 1s 3ms/step - loss: 1.3757e-05 - val_loss: 4.2253e-04\n",
            "Epoch 63/100\n",
            "308/308 [==============================] - 1s 3ms/step - loss: 1.4450e-05 - val_loss: 4.0201e-04\n",
            "Epoch 64/100\n",
            "308/308 [==============================] - 1s 3ms/step - loss: 1.3472e-05 - val_loss: 4.5229e-04\n",
            "Epoch 65/100\n",
            "308/308 [==============================] - 1s 3ms/step - loss: 1.4231e-05 - val_loss: 4.1204e-04\n",
            "Epoch 66/100\n",
            "308/308 [==============================] - 1s 3ms/step - loss: 1.4788e-05 - val_loss: 3.9817e-04\n",
            "Epoch 67/100\n",
            "308/308 [==============================] - 1s 3ms/step - loss: 1.3580e-05 - val_loss: 3.8692e-04\n",
            "Epoch 68/100\n",
            "308/308 [==============================] - 1s 3ms/step - loss: 1.4269e-05 - val_loss: 4.5209e-04\n",
            "Epoch 69/100\n",
            "308/308 [==============================] - 1s 3ms/step - loss: 1.3441e-05 - val_loss: 3.6399e-04\n",
            "Epoch 70/100\n",
            "308/308 [==============================] - 1s 3ms/step - loss: 1.4965e-05 - val_loss: 3.8898e-04\n",
            "Epoch 71/100\n",
            "308/308 [==============================] - 1s 3ms/step - loss: 1.5223e-05 - val_loss: 4.2730e-04\n",
            "Epoch 72/100\n",
            "308/308 [==============================] - 1s 3ms/step - loss: 1.4723e-05 - val_loss: 4.3421e-04\n",
            "Epoch 73/100\n",
            "308/308 [==============================] - 1s 3ms/step - loss: 1.3633e-05 - val_loss: 3.8829e-04\n",
            "Epoch 74/100\n",
            "308/308 [==============================] - 1s 3ms/step - loss: 1.3134e-05 - val_loss: 5.2284e-04\n",
            "Epoch 75/100\n",
            "308/308 [==============================] - 1s 3ms/step - loss: 1.6384e-05 - val_loss: 5.5551e-04\n",
            "Epoch 76/100\n",
            "308/308 [==============================] - 1s 3ms/step - loss: 1.3996e-05 - val_loss: 4.2961e-04\n",
            "Epoch 77/100\n",
            "308/308 [==============================] - 1s 3ms/step - loss: 1.4344e-05 - val_loss: 4.5986e-04\n",
            "Epoch 78/100\n",
            "308/308 [==============================] - 1s 3ms/step - loss: 1.4883e-05 - val_loss: 4.2229e-04\n",
            "Epoch 79/100\n",
            "308/308 [==============================] - 1s 3ms/step - loss: 1.4780e-05 - val_loss: 4.9666e-04\n",
            "Epoch 80/100\n",
            "308/308 [==============================] - 1s 3ms/step - loss: 1.4529e-05 - val_loss: 3.9934e-04\n",
            "Epoch 81/100\n",
            "308/308 [==============================] - 1s 3ms/step - loss: 1.3846e-05 - val_loss: 4.4397e-04\n",
            "Epoch 82/100\n",
            "308/308 [==============================] - 1s 3ms/step - loss: 1.2815e-05 - val_loss: 4.8925e-04\n",
            "Epoch 83/100\n",
            "308/308 [==============================] - 1s 3ms/step - loss: 1.5888e-05 - val_loss: 5.4903e-04\n",
            "Epoch 84/100\n",
            "308/308 [==============================] - 1s 3ms/step - loss: 1.3270e-05 - val_loss: 4.8679e-04\n",
            "Epoch 85/100\n",
            "308/308 [==============================] - 1s 3ms/step - loss: 1.4230e-05 - val_loss: 5.1427e-04\n",
            "Epoch 86/100\n",
            "308/308 [==============================] - 1s 3ms/step - loss: 1.3764e-05 - val_loss: 4.9776e-04\n",
            "Epoch 87/100\n",
            "308/308 [==============================] - 1s 3ms/step - loss: 1.4313e-05 - val_loss: 4.9095e-04\n",
            "Epoch 88/100\n",
            "308/308 [==============================] - 1s 3ms/step - loss: 1.2687e-05 - val_loss: 4.5422e-04\n",
            "Epoch 89/100\n",
            "308/308 [==============================] - 1s 3ms/step - loss: 1.3843e-05 - val_loss: 5.1755e-04\n",
            "Epoch 90/100\n",
            "308/308 [==============================] - 1s 3ms/step - loss: 1.3301e-05 - val_loss: 4.8984e-04\n",
            "Epoch 91/100\n",
            "308/308 [==============================] - 1s 3ms/step - loss: 1.2598e-05 - val_loss: 4.4529e-04\n",
            "Epoch 92/100\n",
            "308/308 [==============================] - 1s 3ms/step - loss: 1.1396e-05 - val_loss: 4.7078e-04\n",
            "Epoch 93/100\n",
            "308/308 [==============================] - 1s 3ms/step - loss: 9.1240e-06 - val_loss: 5.5093e-04\n",
            "Epoch 94/100\n",
            "308/308 [==============================] - 1s 3ms/step - loss: 6.8850e-06 - val_loss: 5.3419e-04\n",
            "Epoch 95/100\n",
            "308/308 [==============================] - 1s 3ms/step - loss: 6.7091e-06 - val_loss: 5.0130e-04\n",
            "Epoch 96/100\n",
            "308/308 [==============================] - 1s 3ms/step - loss: 5.7305e-06 - val_loss: 5.2652e-04\n",
            "Epoch 97/100\n",
            "308/308 [==============================] - 1s 3ms/step - loss: 5.6177e-06 - val_loss: 5.4514e-04\n",
            "Epoch 98/100\n",
            "308/308 [==============================] - 1s 3ms/step - loss: 5.2523e-06 - val_loss: 4.9580e-04\n",
            "Epoch 99/100\n",
            "308/308 [==============================] - 1s 3ms/step - loss: 5.4312e-06 - val_loss: 5.2566e-04\n",
            "Epoch 100/100\n",
            "308/308 [==============================] - 1s 3ms/step - loss: 5.8177e-06 - val_loss: 5.1580e-04\n"
          ]
        }
      ]
    },
    {
      "cell_type": "code",
      "source": [
        "# Compute the output \n",
        "y_predicted = model.predict(x_data)\n",
        "\n",
        "# Display the result\n",
        "plt.xlim(0, 1)\n",
        "plt.ylim(0, 1)\n",
        "plt.scatter(x_data[::1], y_data[::1], s=1)\n",
        "plt.scatter(x_data[::1], y_predicted[::1], s=1)\n",
        "plt.xlabel('Normalized symtopm score')\n",
        "plt.ylabel('Lyme probability')\n",
        "plt.title(\"Neural Curve fitting\")\n",
        "plt.grid()\n",
        "plt.show()\n",
        "# plt.savefig('training.png', dpi=300)\n",
        "# files.download(\"training.png\") "
      ],
      "metadata": {
        "colab": {
          "base_uri": "https://localhost:8080/",
          "height": 312
        },
        "id": "XzeFMcNtUlz0",
        "outputId": "281d5a48-1982-4127-8423-f304a529f275"
      },
      "execution_count": 7,
      "outputs": [
        {
          "output_type": "stream",
          "name": "stdout",
          "text": [
            "384/384 [==============================] - 1s 1ms/step\n"
          ]
        },
        {
          "output_type": "display_data",
          "data": {
            "text/plain": [
              "<Figure size 432x288 with 1 Axes>"
            ],
            "image/png": "[encoded data removed]"
          },
          "metadata": {
            "needs_background": "light"
          }
        }
      ]
    },
    {
      "cell_type": "code",
      "source": [
        "#predict on arbitraty data\n",
        "norm_score=0.9\n",
        "y_predicted = model.predict([norm_score])\n",
        "print(y_predicted)"
      ],
      "metadata": {
        "colab": {
          "base_uri": "https://localhost:8080/"
        },
        "id": "geXW3M4SUu3E",
        "outputId": "c2fc8c06-d98c-4c1c-eebe-5c917b83fcf8"
      },
      "execution_count": 8,
      "outputs": [
        {
          "output_type": "stream",
          "name": "stdout",
          "text": [
            "1/1 [==============================] - 0s 51ms/step\n",
            "[[0.9638865]]\n"
          ]
        }
      ]
    },
    {
      "cell_type": "code",
      "source": [
        "#Create GIF of the training performance\n",
        "# Create the model \n",
        "model = tf.keras.Sequential()\n",
        "# model.add(tf.keras.layers.Dense(units = 1, activation = 'linear', input_shape=[1]))\n",
        "model.add(tf.keras.layers.Dense(units = 64, input_shape=[1], activation = 'relu'))\n",
        "model.add(tf.keras.layers.Dense(units = 64, activation = 'relu'))\n",
        "model.add(tf.keras.layers.Dense(units = 1, activation = 'sigmoid'))\n",
        "model.compile(loss='mse', optimizer=\"adam\")\n",
        "\n",
        "for x in range(100):\n",
        "  # One epoch\n",
        "  model.fit( x_data[100::500], y_data[100::500], epochs=1, verbose=1)\n",
        "\n",
        "  # Compute the output \n",
        "  y_predicted = model.predict(x_data[100::500])\n",
        "\n",
        "  X_Y_Spline = make_interp_spline(x_data[100::500], y_predicted[::1])\n",
        "  X_ = np.linspace(x_data[100::500].min(), x_data[100::500].max(), 500)\n",
        "  Y_ = X_Y_Spline(X_)\n",
        "  # Display the result\n",
        "  plt.scatter(x_data[100::500], y_data[100::500], s=3)\n",
        "  curve = plt.plot(X_, Y_)\n",
        "  plt.setp(curve, color='r', linewidth=1.0)\n",
        "  plt.grid()\n",
        "  plt.xlim(0, 1)\n",
        "  plt.ylim(0, 1)\n",
        "  plt.xlabel('Normalized symtopm score')\n",
        "  plt.ylabel('Lyme probability')\n",
        "  \n",
        "  # displaying the title\n",
        "  plt.title(\"Neural Curve fitting Epoch: \"+str(x))\n",
        "  #plt.show()\n",
        "  plt.savefig('/content/training4/'+ str(x) ,dpi=300)\n",
        "  # files.download('training-' + str(x) +'-epochs.png') \n",
        "  plt.clf()\n",
        "\n",
        "# filepaths\n",
        "fp_in = \"/content/training4/*.png\"\n",
        "fp_out = \"curve_fitting_sig2.gif\"\n",
        "\n",
        "natsort = lambda s: [int(t) if t.isdigit() else t.lower() for t in re.split('(\\d+)', s)]\n",
        "\n",
        "# # https://pillow.readthedocs.io/en/stable/handbook/image-file-formats.html#gif\n",
        "img, *imgs = [Image.open(f) for f in sorted(glob.glob(fp_in), key=natsort)]\n",
        "img.save(fp=fp_out, format='GIF', append_images=imgs,\n",
        "         save_all=True, duration=200, loop=0)"
      ],
      "metadata": {
        "id": "EcvzE7q9U4HU",
        "colab": {
          "base_uri": "https://localhost:8080/",
          "height": 1000
        },
        "outputId": "0065d91f-afb7-4913-a33d-b101b822fbe9"
      },
      "execution_count": 9,
      "outputs": [
        {
          "output_type": "stream",
          "name": "stdout",
          "text": [
            "1/1 [==============================] - 0s 285ms/step - loss: 0.0855\n",
            "1/1 [==============================] - 0s 42ms/step\n",
            "1/1 [==============================] - 0s 7ms/step - loss: 0.0849\n",
            "1/1 [==============================] - 0s 13ms/step\n",
            "1/1 [==============================] - 0s 5ms/step - loss: 0.0843\n",
            "1/1 [==============================] - 0s 15ms/step\n",
            "1/1 [==============================] - 0s 7ms/step - loss: 0.0837\n",
            "1/1 [==============================] - 0s 15ms/step\n",
            "1/1 [==============================] - 0s 7ms/step - loss: 0.0832\n",
            "1/1 [==============================] - 0s 15ms/step\n",
            "1/1 [==============================] - 0s 7ms/step - loss: 0.0826\n",
            "1/1 [==============================] - 0s 13ms/step\n",
            "1/1 [==============================] - 0s 7ms/step - loss: 0.0821\n",
            "1/1 [==============================] - 0s 14ms/step\n",
            "1/1 [==============================] - 0s 4ms/step - loss: 0.0815\n",
            "1/1 [==============================] - 0s 13ms/step\n",
            "1/1 [==============================] - 0s 5ms/step - loss: 0.0810\n",
            "1/1 [==============================] - 0s 14ms/step\n",
            "1/1 [==============================] - 0s 4ms/step - loss: 0.0804\n",
            "1/1 [==============================] - 0s 12ms/step\n",
            "1/1 [==============================] - 0s 4ms/step - loss: 0.0799\n",
            "1/1 [==============================] - 0s 14ms/step\n",
            "1/1 [==============================] - 0s 4ms/step - loss: 0.0794\n",
            "1/1 [==============================] - 0s 12ms/step\n",
            "1/1 [==============================] - 0s 7ms/step - loss: 0.0789\n",
            "1/1 [==============================] - 0s 13ms/step\n",
            "1/1 [==============================] - 0s 4ms/step - loss: 0.0784\n",
            "1/1 [==============================] - 0s 13ms/step\n",
            "1/1 [==============================] - 0s 5ms/step - loss: 0.0779\n",
            "1/1 [==============================] - 0s 13ms/step\n",
            "1/1 [==============================] - 0s 4ms/step - loss: 0.0774\n",
            "1/1 [==============================] - 0s 14ms/step\n",
            "1/1 [==============================] - 0s 4ms/step - loss: 0.0769\n",
            "1/1 [==============================] - 0s 13ms/step\n",
            "1/1 [==============================] - 0s 9ms/step - loss: 0.0764\n",
            "1/1 [==============================] - 0s 14ms/step\n",
            "1/1 [==============================] - 0s 5ms/step - loss: 0.0759\n",
            "1/1 [==============================] - 0s 15ms/step\n",
            "1/1 [==============================] - 0s 5ms/step - loss: 0.0754\n",
            "1/1 [==============================] - 0s 12ms/step\n",
            "1/1 [==============================] - 0s 7ms/step - loss: 0.0749\n",
            "1/1 [==============================] - 0s 13ms/step\n",
            "1/1 [==============================] - 0s 5ms/step - loss: 0.0744\n",
            "1/1 [==============================] - 0s 14ms/step\n",
            "1/1 [==============================] - 0s 5ms/step - loss: 0.0738\n",
            "1/1 [==============================] - 0s 14ms/step\n",
            "1/1 [==============================] - 0s 7ms/step - loss: 0.0733\n",
            "1/1 [==============================] - 0s 15ms/step\n",
            "1/1 [==============================] - 0s 9ms/step - loss: 0.0728\n",
            "1/1 [==============================] - 0s 15ms/step\n",
            "1/1 [==============================] - 0s 5ms/step - loss: 0.0722\n",
            "1/1 [==============================] - 0s 13ms/step\n",
            "1/1 [==============================] - 0s 5ms/step - loss: 0.0717\n",
            "1/1 [==============================] - 0s 12ms/step\n",
            "1/1 [==============================] - 0s 5ms/step - loss: 0.0710\n",
            "1/1 [==============================] - 0s 14ms/step\n",
            "1/1 [==============================] - 0s 5ms/step - loss: 0.0704\n",
            "1/1 [==============================] - 0s 14ms/step\n",
            "1/1 [==============================] - 0s 7ms/step - loss: 0.0698\n",
            "1/1 [==============================] - 0s 13ms/step\n",
            "1/1 [==============================] - 0s 5ms/step - loss: 0.0692\n",
            "1/1 [==============================] - 0s 13ms/step\n",
            "1/1 [==============================] - 0s 5ms/step - loss: 0.0685\n",
            "1/1 [==============================] - 0s 15ms/step\n",
            "1/1 [==============================] - 0s 8ms/step - loss: 0.0679\n",
            "1/1 [==============================] - 0s 13ms/step\n",
            "1/1 [==============================] - 0s 5ms/step - loss: 0.0672\n",
            "1/1 [==============================] - 0s 14ms/step\n",
            "1/1 [==============================] - 0s 5ms/step - loss: 0.0665\n",
            "1/1 [==============================] - 0s 13ms/step\n",
            "1/1 [==============================] - 0s 4ms/step - loss: 0.0658\n",
            "1/1 [==============================] - 0s 14ms/step\n",
            "1/1 [==============================] - 0s 5ms/step - loss: 0.0651\n",
            "1/1 [==============================] - 0s 14ms/step\n",
            "1/1 [==============================] - 0s 5ms/step - loss: 0.0644\n",
            "1/1 [==============================] - 0s 13ms/step\n",
            "1/1 [==============================] - 0s 6ms/step - loss: 0.0636\n",
            "1/1 [==============================] - 0s 26ms/step\n",
            "1/1 [==============================] - 0s 5ms/step - loss: 0.0629\n",
            "1/1 [==============================] - 0s 14ms/step\n",
            "1/1 [==============================] - 0s 7ms/step - loss: 0.0622\n",
            "1/1 [==============================] - 0s 14ms/step\n",
            "1/1 [==============================] - 0s 4ms/step - loss: 0.0615\n",
            "1/1 [==============================] - 0s 14ms/step\n",
            "1/1 [==============================] - 0s 4ms/step - loss: 0.0607\n",
            "1/1 [==============================] - 0s 13ms/step\n",
            "1/1 [==============================] - 0s 4ms/step - loss: 0.0600\n",
            "1/1 [==============================] - 0s 16ms/step\n",
            "1/1 [==============================] - 0s 5ms/step - loss: 0.0592\n",
            "1/1 [==============================] - 0s 13ms/step\n",
            "1/1 [==============================] - 0s 4ms/step - loss: 0.0584\n",
            "1/1 [==============================] - 0s 13ms/step\n",
            "1/1 [==============================] - 0s 4ms/step - loss: 0.0576\n",
            "1/1 [==============================] - 0s 13ms/step\n",
            "1/1 [==============================] - 0s 4ms/step - loss: 0.0568\n",
            "1/1 [==============================] - 0s 13ms/step\n",
            "1/1 [==============================] - 0s 6ms/step - loss: 0.0560\n",
            "1/1 [==============================] - 0s 25ms/step\n",
            "1/1 [==============================] - 0s 10ms/step - loss: 0.0551\n",
            "1/1 [==============================] - 0s 14ms/step\n",
            "1/1 [==============================] - 0s 4ms/step - loss: 0.0542\n",
            "1/1 [==============================] - 0s 13ms/step\n",
            "1/1 [==============================] - 0s 4ms/step - loss: 0.0533\n",
            "1/1 [==============================] - 0s 14ms/step\n",
            "1/1 [==============================] - 0s 4ms/step - loss: 0.0525\n",
            "1/1 [==============================] - 0s 16ms/step\n",
            "1/1 [==============================] - 0s 5ms/step - loss: 0.0516\n",
            "1/1 [==============================] - 0s 13ms/step\n",
            "1/1 [==============================] - 0s 5ms/step - loss: 0.0507\n",
            "1/1 [==============================] - 0s 13ms/step\n",
            "1/1 [==============================] - 0s 5ms/step - loss: 0.0498\n",
            "1/1 [==============================] - 0s 13ms/step\n",
            "1/1 [==============================] - 0s 5ms/step - loss: 0.0489\n",
            "1/1 [==============================] - 0s 13ms/step\n",
            "1/1 [==============================] - 0s 5ms/step - loss: 0.0480\n",
            "1/1 [==============================] - 0s 14ms/step\n",
            "1/1 [==============================] - 0s 4ms/step - loss: 0.0470\n",
            "1/1 [==============================] - 0s 14ms/step\n",
            "1/1 [==============================] - 0s 4ms/step - loss: 0.0461\n",
            "1/1 [==============================] - 0s 13ms/step\n",
            "1/1 [==============================] - 0s 5ms/step - loss: 0.0452\n",
            "1/1 [==============================] - 0s 13ms/step\n",
            "1/1 [==============================] - 0s 5ms/step - loss: 0.0442\n",
            "1/1 [==============================] - 0s 14ms/step\n",
            "1/1 [==============================] - 0s 4ms/step - loss: 0.0433\n",
            "1/1 [==============================] - 0s 16ms/step\n",
            "1/1 [==============================] - 0s 5ms/step - loss: 0.0423\n",
            "1/1 [==============================] - 0s 13ms/step\n",
            "1/1 [==============================] - 0s 8ms/step - loss: 0.0413\n",
            "1/1 [==============================] - 0s 15ms/step\n",
            "1/1 [==============================] - 0s 5ms/step - loss: 0.0404\n",
            "1/1 [==============================] - 0s 14ms/step\n",
            "1/1 [==============================] - 0s 5ms/step - loss: 0.0394\n",
            "1/1 [==============================] - 0s 15ms/step\n",
            "1/1 [==============================] - 0s 6ms/step - loss: 0.0384\n",
            "1/1 [==============================] - 0s 13ms/step\n",
            "1/1 [==============================] - 0s 4ms/step - loss: 0.0375\n",
            "1/1 [==============================] - 0s 15ms/step\n",
            "1/1 [==============================] - 0s 7ms/step - loss: 0.0365\n",
            "1/1 [==============================] - 0s 13ms/step\n",
            "1/1 [==============================] - 0s 4ms/step - loss: 0.0355\n",
            "1/1 [==============================] - 0s 13ms/step\n",
            "1/1 [==============================] - 0s 7ms/step - loss: 0.0345\n",
            "1/1 [==============================] - 0s 13ms/step\n",
            "1/1 [==============================] - 0s 6ms/step - loss: 0.0336\n",
            "1/1 [==============================] - 0s 16ms/step\n",
            "1/1 [==============================] - 0s 4ms/step - loss: 0.0326\n",
            "1/1 [==============================] - 0s 12ms/step\n",
            "1/1 [==============================] - 0s 5ms/step - loss: 0.0316\n",
            "1/1 [==============================] - 0s 14ms/step\n",
            "1/1 [==============================] - 0s 5ms/step - loss: 0.0307\n",
            "1/1 [==============================] - 0s 15ms/step\n",
            "1/1 [==============================] - 0s 6ms/step - loss: 0.0297\n",
            "1/1 [==============================] - 0s 14ms/step\n",
            "1/1 [==============================] - 0s 7ms/step - loss: 0.0288\n",
            "1/1 [==============================] - 0s 14ms/step\n",
            "1/1 [==============================] - 0s 8ms/step - loss: 0.0278\n",
            "1/1 [==============================] - 0s 18ms/step\n",
            "1/1 [==============================] - 0s 4ms/step - loss: 0.0269\n",
            "1/1 [==============================] - 0s 14ms/step\n",
            "1/1 [==============================] - 0s 4ms/step - loss: 0.0260\n",
            "1/1 [==============================] - 0s 18ms/step\n",
            "1/1 [==============================] - 0s 6ms/step - loss: 0.0251\n",
            "1/1 [==============================] - 0s 13ms/step\n",
            "1/1 [==============================] - 0s 4ms/step - loss: 0.0242\n",
            "1/1 [==============================] - 0s 13ms/step\n",
            "1/1 [==============================] - 0s 7ms/step - loss: 0.0233\n",
            "1/1 [==============================] - 0s 14ms/step\n",
            "1/1 [==============================] - 0s 6ms/step - loss: 0.0225\n",
            "1/1 [==============================] - 0s 13ms/step\n",
            "1/1 [==============================] - 0s 4ms/step - loss: 0.0216\n",
            "1/1 [==============================] - 0s 13ms/step\n",
            "1/1 [==============================] - 0s 6ms/step - loss: 0.0208\n",
            "1/1 [==============================] - 0s 15ms/step\n",
            "1/1 [==============================] - 0s 7ms/step - loss: 0.0200\n",
            "1/1 [==============================] - 0s 13ms/step\n",
            "1/1 [==============================] - 0s 5ms/step - loss: 0.0192\n",
            "1/1 [==============================] - 0s 13ms/step\n",
            "1/1 [==============================] - 0s 4ms/step - loss: 0.0184\n",
            "1/1 [==============================] - 0s 14ms/step\n",
            "1/1 [==============================] - 0s 7ms/step - loss: 0.0176\n",
            "1/1 [==============================] - 0s 19ms/step\n",
            "1/1 [==============================] - 0s 5ms/step - loss: 0.0168\n",
            "1/1 [==============================] - 0s 16ms/step\n",
            "1/1 [==============================] - 0s 6ms/step - loss: 0.0161\n",
            "1/1 [==============================] - 0s 13ms/step\n",
            "1/1 [==============================] - 0s 6ms/step - loss: 0.0154\n",
            "1/1 [==============================] - 0s 13ms/step\n",
            "1/1 [==============================] - 0s 5ms/step - loss: 0.0147\n",
            "1/1 [==============================] - 0s 12ms/step\n",
            "1/1 [==============================] - 0s 10ms/step - loss: 0.0140\n",
            "1/1 [==============================] - 0s 22ms/step\n",
            "1/1 [==============================] - 0s 6ms/step - loss: 0.0134\n",
            "1/1 [==============================] - 0s 14ms/step\n",
            "1/1 [==============================] - 0s 6ms/step - loss: 0.0127\n",
            "1/1 [==============================] - 0s 13ms/step\n",
            "1/1 [==============================] - 0s 5ms/step - loss: 0.0121\n",
            "1/1 [==============================] - 0s 16ms/step\n",
            "1/1 [==============================] - 0s 6ms/step - loss: 0.0115\n",
            "1/1 [==============================] - 0s 12ms/step\n"
          ]
        },
        {
          "output_type": "display_data",
          "data": {
            "text/plain": [
              "<Figure size 432x288 with 0 Axes>"
            ]
          },
          "metadata": {}
        }
      ]
    },
    {
      "cell_type": "code",
      "source": [
        "from google.colab import drive\n",
        "drive.mount('/content/drive')"
      ],
      "metadata": {
        "colab": {
          "base_uri": "https://localhost:8080/"
        },
        "id": "nnbs5qP_Akyc",
        "outputId": "0ea4ff84-16a4-4f60-c6e7-04a21f7d00c4"
      },
      "execution_count": 10,
      "outputs": [
        {
          "output_type": "stream",
          "name": "stdout",
          "text": [
            "Mounted at /content/drive\n"
          ]
        }
      ]
    },
    {
      "cell_type": "markdown",
      "source": [
        "# New section"
      ],
      "metadata": {
        "id": "6iF3ws0d-ncG"
      }
    }
  ]
}